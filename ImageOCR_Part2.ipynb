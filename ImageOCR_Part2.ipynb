{
 "cells": [
  {
   "cell_type": "code",
   "execution_count": null,
   "metadata": {},
   "outputs": [],
   "source": [
    "#from PIL import(\n",
    "#    Image,\n",
    "#    ImageFilter,\n",
    "#    ImageOps\n",
    "#)\n",
    "from helperFunctions import(\n",
    "    displayImage,\n",
    "    readTextAndPrint,\n",
    "    imageConvolution\n",
    "    checkTesseractPath,\n",
    "    unzipImages\n",
    ")\n",
    "#import pytesseract\n",
    "#from matplotlib import pyplot as plt\n",
    "import glob\n",
    "#import os\n",
    "\n",
    "# a function that can be found in the readTextOnPhoto.py to help check and see if \n",
    "checkTesseractPath() \n",
    "\n",
    "# the images we are looking at are zipped for the purposed of storage in GitHub here we'll make sure they're ready for use in this notebook\n",
    "unzipImages()\n",
    "\n",
    "Image.MAX_IMAGE_PIXELS = None"
   ]
  },
  {
   "cell_type": "code",
   "execution_count": null,
   "metadata": {},
   "outputs": [],
   "source": [
    "files = glob.glob(r'images\\croppedImages\\*.tif')"
   ]
  },
  {
   "cell_type": "code",
   "execution_count": null,
   "metadata": {},
   "outputs": [],
   "source": [
    "print(pytesseract.pytesseract.tesseract_cmd)"
   ]
  },
  {
   "cell_type": "code",
   "execution_count": null,
   "metadata": {},
   "outputs": [],
   "source": [
    "file = files[6]\n",
    "\n",
    "processedImage =  imageConvolution(file)\n",
    "readTextAndPrint(processedImage)\n",
    "displayImage(processedImage, 'Processed Image #5')"
   ]
  },
  {
   "cell_type": "code",
   "execution_count": null,
   "metadata": {},
   "outputs": [],
   "source": [
    "file = files[14]\n",
    "processedImage = imageConvolution(file)\n",
    "readTextAndPrint(processedImage)\n",
    "displayImage(processedImage, 'Processed Image #15')\n",
    "processedImage = ImageOps.expand(processedImage, border=100,fill='white')"
   ]
  },
  {
   "cell_type": "code",
   "execution_count": null,
   "metadata": {},
   "outputs": [],
   "source": [
    "processedImage = ImageOps.expand(processedImage, border=100, fill='white')\n",
    "readTextAndPrint(processedImage)\n",
    "displayImage(processedImage, 'Processed Image #15')"
   ]
  },
  {
   "cell_type": "code",
   "execution_count": null,
   "metadata": {},
   "outputs": [],
   "source": [
    "processedImage = processedImage.filter(ImageFilter.MinFilter(size=3))\n",
    "processedImage = processedImage.filter(ImageFilter.MinFilter(size=5))\n",
    "displayImage(processedImage, 'Minimum Filtered 4 Times Image #15')\n",
    "readTextAndPrint(processedImage)"
   ]
  }
 ],
 "metadata": {
  "kernelspec": {
   "display_name": "Python 3",
   "language": "python",
   "name": "python3"
  },
  "language_info": {
   "codemirror_mode": {
    "name": "ipython",
    "version": 3
   },
   "file_extension": ".py",
   "mimetype": "text/x-python",
   "name": "python",
   "nbconvert_exporter": "python",
   "pygments_lexer": "ipython3",
   "version": "3.6.12"
  }
 },
 "nbformat": 4,
 "nbformat_minor": 4
}

{
 "cells": [
  {
   "cell_type": "code",
   "execution_count": null,
   "metadata": {},
   "outputs": [],
   "source": [
    "from PIL import (\n",
    "    Image,\n",
    "    ImageFilter,\n",
    "    ImageOps\n",
    ")\n",
    "\n",
    "from helperFunctions import (\n",
    "    displayImage,\n",
    "    readTextAndPrint,\n",
    "    imageConvolution,\n",
    "    checkTesseractPath\n",
    ")\n",
    "#import pytesseract\n",
    "#from matplotlib import pyplot as plt\n",
    "import glob\n",
    "#import os\n",
    "\n",
    "# a function that can be found in the readTextOnPhoto.py to help check and see if \n",
    "checkTesseractPath()\n",
    "\n",
    "Image.MAX_IMAGE_PIXELS = None"
   ]
  },
  {
   "cell_type": "code",
   "execution_count": null,
   "metadata": {},
   "outputs": [],
   "source": [
    "files = glob.glob(r'images\\croppedImages\\*.tif')"
   ]
  },
  {
   "cell_type": "code",
   "execution_count": null,
   "metadata": {},
   "outputs": [],
   "source": [
    "file = files[9]\n",
    "\n",
    "processedImage =  imageConvolution(file)\n",
    "readTextAndPrint(processedImage)\n",
    "displayImage(processedImage, 'Processed Image #5')"
   ]
  },
  {
   "cell_type": "code",
   "execution_count": null,
   "metadata": {},
   "outputs": [],
   "source": [
    "file = files[14]\n",
    "processedImage = imageConvolution(file)\n",
    "readTextAndPrint(processedImage)\n",
    "displayImage(processedImage, 'Processed Image #15')\n",
    "processedImage = ImageOps.expand(processedImage, border=100,fill='white')"
   ]
  },
  {
   "cell_type": "code",
   "execution_count": null,
   "metadata": {},
   "outputs": [],
   "source": [
    "processedImage = ImageOps.expand(processedImage, border=100, fill='white')\n",
    "readTextAndPrint(processedImage)\n",
    "displayImage(processedImage, 'Processed Image with added border #15')"
   ]
  },
  {
   "cell_type": "code",
   "execution_count": null,
   "metadata": {},
   "outputs": [],
   "source": [
    "processedImage = processedImage.filter(ImageFilter.MinFilter(size=3))\n",
    "processedImage = processedImage.filter(ImageFilter.MinFilter(size=5))\n",
    "displayImage(processedImage, 'Minimum Filtered 4 Times Image #15')\n",
    "readTextAndPrint(processedImage)"
   ]
  }
 ],
 "metadata": {
  "kernelspec": {
   "display_name": "Python 3",
   "language": "python",
   "name": "python3"
  },
  "language_info": {
   "codemirror_mode": {
    "name": "ipython",
    "version": 3
   },
   "file_extension": ".py",
   "mimetype": "text/x-python",
   "name": "python",
   "nbconvert_exporter": "python",
   "pygments_lexer": "ipython3",
   "version": "3.6.12"
  }
 },
 "nbformat": 4,
 "nbformat_minor": 4
}
